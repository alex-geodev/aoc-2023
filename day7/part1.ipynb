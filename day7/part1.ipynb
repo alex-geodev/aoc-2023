{
 "cells": [
  {
   "cell_type": "code",
   "execution_count": 18,
   "metadata": {},
   "outputs": [],
   "source": [
    "import pandas as pd\n",
    "import re"
   ]
  },
  {
   "cell_type": "code",
   "execution_count": 20,
   "metadata": {},
   "outputs": [],
   "source": [
    "data_unformed = list(open('data.txt').read().split('\\n'))"
   ]
  },
  {
   "cell_type": "code",
   "execution_count": 11,
   "metadata": {},
   "outputs": [],
   "source": [
    "hands = [hand.split()[0] for hand in test]\n",
    "bids = [hand.split()[1] for hand in test]"
   ]
  },
  {
   "cell_type": "code",
   "execution_count": 16,
   "metadata": {},
   "outputs": [],
   "source": [
    "data = pd.DataFrame({'hands':hands,'bids':bids,'hand_rank':0})"
   ]
  },
  {
   "cell_type": "code",
   "execution_count": 17,
   "metadata": {},
   "outputs": [
    {
     "data": {
      "text/html": [
       "<div>\n",
       "<style scoped>\n",
       "    .dataframe tbody tr th:only-of-type {\n",
       "        vertical-align: middle;\n",
       "    }\n",
       "\n",
       "    .dataframe tbody tr th {\n",
       "        vertical-align: top;\n",
       "    }\n",
       "\n",
       "    .dataframe thead th {\n",
       "        text-align: right;\n",
       "    }\n",
       "</style>\n",
       "<table border=\"1\" class=\"dataframe\">\n",
       "  <thead>\n",
       "    <tr style=\"text-align: right;\">\n",
       "      <th></th>\n",
       "      <th>hands</th>\n",
       "      <th>bids</th>\n",
       "      <th>hand_rank</th>\n",
       "    </tr>\n",
       "  </thead>\n",
       "  <tbody>\n",
       "    <tr>\n",
       "      <th>0</th>\n",
       "      <td>T33AA</td>\n",
       "      <td>613</td>\n",
       "      <td>0</td>\n",
       "    </tr>\n",
       "    <tr>\n",
       "      <th>1</th>\n",
       "      <td>J5JJ5</td>\n",
       "      <td>411</td>\n",
       "      <td>0</td>\n",
       "    </tr>\n",
       "    <tr>\n",
       "      <th>2</th>\n",
       "      <td>J4444</td>\n",
       "      <td>240</td>\n",
       "      <td>0</td>\n",
       "    </tr>\n",
       "    <tr>\n",
       "      <th>3</th>\n",
       "      <td>T5K98</td>\n",
       "      <td>463</td>\n",
       "      <td>0</td>\n",
       "    </tr>\n",
       "    <tr>\n",
       "      <th>4</th>\n",
       "      <td>7Q6K2</td>\n",
       "      <td>4</td>\n",
       "      <td>0</td>\n",
       "    </tr>\n",
       "  </tbody>\n",
       "</table>\n",
       "</div>"
      ],
      "text/plain": [
       "   hands bids  hand_rank\n",
       "0  T33AA  613          0\n",
       "1  J5JJ5  411          0\n",
       "2  J4444  240          0\n",
       "3  T5K98  463          0\n",
       "4  7Q6K2    4          0"
      ]
     },
     "execution_count": 17,
     "metadata": {},
     "output_type": "execute_result"
    }
   ],
   "source": [
    "data.head()"
   ]
  },
  {
   "cell_type": "code",
   "execution_count": 38,
   "metadata": {},
   "outputs": [],
   "source": [
    "def check_freq(x):\n",
    "    freq = {}\n",
    "    freq = [(x.count(c),c) for c in set(x)]\n",
    "    return freq"
   ]
  },
  {
   "cell_type": "code",
   "execution_count": 56,
   "metadata": {},
   "outputs": [],
   "source": [
    "def get_hand_type(hand):\n",
    "    card_count = check_freq(hand)\n",
    "\n",
    "    #get max count\n",
    "    cnt = max(card_count)[0]\n",
    "    \n",
    "    #check for full house\n",
    "    if cnt == 3:\n",
    "        num_twos = len([num[0] for num in card_count if num[0]==2])\n",
    "        if num_twos ==1:\n",
    "            return 4\n",
    "        else:\n",
    "            return 3\n",
    "    #check for two pairs\n",
    "    elif cnt == 2:\n",
    "        num_twos = len([num[0] for num in card_count if num[0]==2])\n",
    "        if num_twos ==2:\n",
    "            return 2\n",
    "        else:\n",
    "            return 1\n",
    "    elif cnt==1:\n",
    "        return 0\n",
    "    else:\n",
    "        return cnt+1"
   ]
  },
  {
   "cell_type": "code",
   "execution_count": 57,
   "metadata": {},
   "outputs": [],
   "source": [
    "data['hand_rank'] = data.apply(lambda x : get_hand_type(x.hands),axis=1)"
   ]
  },
  {
   "cell_type": "code",
   "execution_count": 62,
   "metadata": {},
   "outputs": [],
   "source": [
    "fours = data[data.hand_rank == 4]"
   ]
  },
  {
   "cell_type": "code",
   "execution_count": 73,
   "metadata": {},
   "outputs": [],
   "source": [
    "card_dict = {\n",
    "    'A':14,\n",
    "    'K':13,\n",
    "    'Q':12,\n",
    "    'J':11,\n",
    "    'T':10\n",
    "}\n",
    "def create_cards(card):\n",
    "    try:\n",
    "        return card_dict[card]\n",
    "    except:\n",
    "        return int(card)"
   ]
  },
  {
   "cell_type": "code",
   "execution_count": 76,
   "metadata": {},
   "outputs": [],
   "source": [
    "data['card1'] = data.hands.apply(lambda x: create_cards(x[0]))\n",
    "data['card2'] = data.hands.apply(lambda x: create_cards(x[1]))\n",
    "data['card3'] = data.hands.apply(lambda x: create_cards(x[2]))\n",
    "data['card4'] = data.hands.apply(lambda x: create_cards(x[3]))\n",
    "data['card5'] = data.hands.apply(lambda x: create_cards(x[4]))"
   ]
  },
  {
   "cell_type": "code",
   "execution_count": 78,
   "metadata": {},
   "outputs": [],
   "source": [
    "data = data.sort_values(by=['hand_rank','card1','card2','card3','card4','card5'],ascending=False).reset_index(drop=True)"
   ]
  },
  {
   "cell_type": "code",
   "execution_count": 98,
   "metadata": {},
   "outputs": [
    {
     "name": "stdout",
     "output_type": "stream",
     "text": [
      "251927063\n"
     ]
    }
   ],
   "source": [
    "total=0\n",
    "for idx,row in data.iterrows():\n",
    "    total+=(1000-idx)*int(row.bids)\n",
    "print(total)"
   ]
  },
  {
   "cell_type": "markdown",
   "metadata": {},
   "source": [
    "PArt 2: Jacks as Jokers"
   ]
  },
  {
   "cell_type": "code",
   "execution_count": 122,
   "metadata": {},
   "outputs": [],
   "source": [
    "card_dict = {\n",
    "    'A':14,\n",
    "    'K':13,\n",
    "    'Q':12,\n",
    "    'J':1,\n",
    "    'T':10\n",
    "}"
   ]
  },
  {
   "cell_type": "code",
   "execution_count": 114,
   "metadata": {},
   "outputs": [],
   "source": [
    "def get_hand_type_with_jokers(hand):\n",
    "    card_count = sorted(check_freq(hand),reverse=True)\n",
    "\n",
    "    #get joker count\n",
    "    jokers = len([card[1] for card in card_count if card[1] =='J'])\n",
    "    \n",
    "    #get max count of any type of card \n",
    "    cnt = max(card_count)[0]\n",
    "    max_card = max(card_count)[1]\n",
    "\n",
    "    if max_card != 'J':\n",
    "        cnt+=jokers\n",
    "    else:\n",
    "        print(card_count)\n",
    "        if len(card_count)>1:\n",
    "            cnt = card_count[1][0]\n",
    "            cnt+=jokers\n",
    "    #check for full house\n",
    "    if cnt == 3:\n",
    "        num_twos = len([num[0] for num in card_count if num[0]==2])\n",
    "        if num_twos ==1:\n",
    "            return 4\n",
    "        else:\n",
    "            return 3\n",
    "    #check for two pairs\n",
    "    elif cnt == 2:\n",
    "        num_twos = len([num[0] for num in card_count if num[0]==2])\n",
    "        if num_twos ==2:\n",
    "            return 2\n",
    "        else:\n",
    "            return 1\n",
    "    elif cnt==1:\n",
    "        return 0\n",
    "    else:\n",
    "        return cnt+1"
   ]
  },
  {
   "cell_type": "code",
   "execution_count": 115,
   "metadata": {},
   "outputs": [
    {
     "name": "stdout",
     "output_type": "stream",
     "text": [
      "[(5, 'J')]\n",
      "[(4, 'J'), (1, '8')]\n",
      "[(3, 'J'), (2, '8')]\n",
      "[(3, 'J'), (2, '4')]\n",
      "[(3, 'J'), (2, '6')]\n",
      "[(3, 'J'), (2, '5')]\n",
      "[(3, 'J'), (2, 'T')]\n",
      "[(3, 'J'), (2, '3')]\n",
      "[(3, 'J'), (1, 'A'), (1, '8')]\n",
      "[(3, 'J'), (1, '9'), (1, '4')]\n",
      "[(3, 'J'), (1, '9'), (1, '2')]\n",
      "[(2, 'J'), (2, '7'), (1, 'Q')]\n",
      "[(2, 'J'), (2, 'A'), (1, '2')]\n",
      "[(2, 'J'), (2, '9'), (1, 'K')]\n",
      "[(2, 'J'), (2, '6'), (1, '7')]\n",
      "[(2, 'J'), (2, '9'), (1, '2')]\n",
      "[(2, 'J'), (2, '8'), (1, '2')]\n",
      "[(2, 'J'), (2, '5'), (1, '9')]\n",
      "[(2, 'J'), (2, '9'), (1, '4')]\n",
      "[(2, 'J'), (2, '3'), (1, '6')]\n",
      "[(2, 'J'), (2, '2'), (1, '5')]\n",
      "[(2, 'J'), (2, '2'), (1, '3')]\n",
      "[(2, 'J'), (2, '9'), (1, '5')]\n",
      "[(2, 'J'), (2, '9'), (1, 'Q')]\n",
      "[(2, 'J'), (2, '7'), (1, '9')]\n",
      "[(2, 'J'), (2, '8'), (1, '3')]\n",
      "[(2, 'J'), (2, 'A'), (1, '6')]\n",
      "[(2, 'J'), (2, '6'), (1, 'A')]\n",
      "[(2, 'J'), (2, '6'), (1, '5')]\n",
      "[(2, 'J'), (2, '4'), (1, '2')]\n",
      "[(2, 'J'), (1, 'A'), (1, '8'), (1, '6')]\n",
      "[(2, 'J'), (1, 'T'), (1, 'Q'), (1, 'A')]\n",
      "[(2, 'J'), (1, 'Q'), (1, 'A'), (1, '4')]\n",
      "[(2, 'J'), (1, 'Q'), (1, '8'), (1, '5')]\n",
      "[(2, 'J'), (1, 'K'), (1, 'A'), (1, '7')]\n",
      "[(2, 'J'), (1, 'K'), (1, '8'), (1, '7')]\n",
      "[(2, 'J'), (1, 'T'), (1, '6'), (1, '5')]\n",
      "[(2, 'J'), (1, 'A'), (1, '9'), (1, '8')]\n",
      "[(2, 'J'), (1, 'Q'), (1, '8'), (1, '3')]\n",
      "[(2, 'J'), (1, 'T'), (1, '6'), (1, '4')]\n",
      "[(2, 'J'), (1, 'T'), (1, '7'), (1, '2')]\n",
      "[(2, 'J'), (1, '8'), (1, '7'), (1, '4')]\n",
      "[(2, 'J'), (1, 'K'), (1, '8'), (1, '3')]\n",
      "[(2, 'J'), (1, '9'), (1, '8'), (1, '7')]\n",
      "[(2, 'J'), (1, 'T'), (1, '8'), (1, '5')]\n",
      "[(2, 'J'), (1, '7'), (1, '4'), (1, '2')]\n",
      "[(1, 'J'), (1, 'A'), (1, '7'), (1, '5'), (1, '2')]\n",
      "[(1, 'J'), (1, 'A'), (1, '9'), (1, '6'), (1, '5')]\n",
      "[(1, 'J'), (1, '9'), (1, '7'), (1, '5'), (1, '2')]\n",
      "[(1, 'J'), (1, '9'), (1, '8'), (1, '6'), (1, '4')]\n",
      "[(1, 'J'), (1, 'A'), (1, '8'), (1, '7'), (1, '5')]\n",
      "[(1, 'J'), (1, 'A'), (1, '8'), (1, '3'), (1, '2')]\n",
      "[(1, 'J'), (1, '8'), (1, '7'), (1, '3'), (1, '2')]\n",
      "[(1, 'J'), (1, 'A'), (1, '7'), (1, '6'), (1, '2')]\n",
      "[(1, 'J'), (1, 'A'), (1, '6'), (1, '4'), (1, '2')]\n",
      "[(1, 'J'), (1, '6'), (1, '4'), (1, '3'), (1, '2')]\n",
      "[(1, 'J'), (1, 'A'), (1, '8'), (1, '5'), (1, '2')]\n",
      "[(1, 'J'), (1, 'A'), (1, '6'), (1, '5'), (1, '4')]\n",
      "[(1, 'J'), (1, '9'), (1, '5'), (1, '3'), (1, '2')]\n",
      "[(1, 'J'), (1, '9'), (1, '8'), (1, '6'), (1, '5')]\n",
      "[(1, 'J'), (1, '9'), (1, '7'), (1, '6'), (1, '5')]\n",
      "[(1, 'J'), (1, '6'), (1, '5'), (1, '3'), (1, '2')]\n",
      "[(1, 'J'), (1, '8'), (1, '6'), (1, '5'), (1, '3')]\n",
      "[(1, 'J'), (1, '9'), (1, '6'), (1, '4'), (1, '2')]\n",
      "[(1, 'J'), (1, '9'), (1, '7'), (1, '6'), (1, '4')]\n",
      "[(1, 'J'), (1, '9'), (1, '7'), (1, '5'), (1, '4')]\n",
      "[(1, 'J'), (1, '9'), (1, '8'), (1, '3'), (1, '2')]\n",
      "[(1, 'J'), (1, 'A'), (1, '9'), (1, '7'), (1, '3')]\n",
      "[(1, 'J'), (1, 'A'), (1, '9'), (1, '5'), (1, '2')]\n",
      "[(1, 'J'), (1, 'A'), (1, '8'), (1, '4'), (1, '2')]\n"
     ]
    }
   ],
   "source": [
    "part2_df = data.copy()\n",
    "part2_df['hand_rank'] = part2_df.apply(lambda x: get_hand_type_with_jokers(x.hands),axis=1)"
   ]
  },
  {
   "cell_type": "code",
   "execution_count": 123,
   "metadata": {},
   "outputs": [],
   "source": [
    "part2_df['card1'] = part2_df.hands.apply(lambda x: create_cards(x[0]))\n",
    "part2_df['card2'] = part2_df.hands.apply(lambda x: create_cards(x[1]))\n",
    "part2_df['card3'] = part2_df.hands.apply(lambda x: create_cards(x[2]))\n",
    "part2_df['card4'] = part2_df.hands.apply(lambda x: create_cards(x[3]))\n",
    "part2_df['card5'] = part2_df.hands.apply(lambda x: create_cards(x[4]))"
   ]
  },
  {
   "cell_type": "code",
   "execution_count": 125,
   "metadata": {},
   "outputs": [],
   "source": [
    "part2_df = part2_df.sort_values(by=['hand_rank','card1','card2','card3','card4','card5'],ascending=False).reset_index(drop=True)"
   ]
  },
  {
   "cell_type": "code",
   "execution_count": 128,
   "metadata": {},
   "outputs": [
    {
     "data": {
      "text/html": [
       "<div>\n",
       "<style scoped>\n",
       "    .dataframe tbody tr th:only-of-type {\n",
       "        vertical-align: middle;\n",
       "    }\n",
       "\n",
       "    .dataframe tbody tr th {\n",
       "        vertical-align: top;\n",
       "    }\n",
       "\n",
       "    .dataframe thead th {\n",
       "        text-align: right;\n",
       "    }\n",
       "</style>\n",
       "<table border=\"1\" class=\"dataframe\">\n",
       "  <thead>\n",
       "    <tr style=\"text-align: right;\">\n",
       "      <th></th>\n",
       "      <th>hands</th>\n",
       "      <th>bids</th>\n",
       "      <th>hand_rank</th>\n",
       "      <th>card1</th>\n",
       "      <th>card2</th>\n",
       "      <th>card3</th>\n",
       "      <th>card4</th>\n",
       "      <th>card5</th>\n",
       "    </tr>\n",
       "  </thead>\n",
       "  <tbody>\n",
       "    <tr>\n",
       "      <th>995</th>\n",
       "      <td>28TAQ</td>\n",
       "      <td>530</td>\n",
       "      <td>0</td>\n",
       "      <td>2</td>\n",
       "      <td>8</td>\n",
       "      <td>10</td>\n",
       "      <td>14</td>\n",
       "      <td>12</td>\n",
       "    </tr>\n",
       "    <tr>\n",
       "      <th>996</th>\n",
       "      <td>268Q4</td>\n",
       "      <td>214</td>\n",
       "      <td>0</td>\n",
       "      <td>2</td>\n",
       "      <td>6</td>\n",
       "      <td>8</td>\n",
       "      <td>12</td>\n",
       "      <td>4</td>\n",
       "    </tr>\n",
       "    <tr>\n",
       "      <th>997</th>\n",
       "      <td>248Q5</td>\n",
       "      <td>989</td>\n",
       "      <td>0</td>\n",
       "      <td>2</td>\n",
       "      <td>4</td>\n",
       "      <td>8</td>\n",
       "      <td>12</td>\n",
       "      <td>5</td>\n",
       "    </tr>\n",
       "    <tr>\n",
       "      <th>998</th>\n",
       "      <td>24368</td>\n",
       "      <td>854</td>\n",
       "      <td>0</td>\n",
       "      <td>2</td>\n",
       "      <td>4</td>\n",
       "      <td>3</td>\n",
       "      <td>6</td>\n",
       "      <td>8</td>\n",
       "    </tr>\n",
       "    <tr>\n",
       "      <th>999</th>\n",
       "      <td>23T4Q</td>\n",
       "      <td>181</td>\n",
       "      <td>0</td>\n",
       "      <td>2</td>\n",
       "      <td>3</td>\n",
       "      <td>10</td>\n",
       "      <td>4</td>\n",
       "      <td>12</td>\n",
       "    </tr>\n",
       "  </tbody>\n",
       "</table>\n",
       "</div>"
      ],
      "text/plain": [
       "     hands bids  hand_rank  card1  card2  card3  card4  card5\n",
       "995  28TAQ  530          0      2      8     10     14     12\n",
       "996  268Q4  214          0      2      6      8     12      4\n",
       "997  248Q5  989          0      2      4      8     12      5\n",
       "998  24368  854          0      2      4      3      6      8\n",
       "999  23T4Q  181          0      2      3     10      4     12"
      ]
     },
     "execution_count": 128,
     "metadata": {},
     "output_type": "execute_result"
    }
   ],
   "source": [
    "part2_df.tail()"
   ]
  },
  {
   "cell_type": "code",
   "execution_count": 127,
   "metadata": {},
   "outputs": [
    {
     "name": "stdout",
     "output_type": "stream",
     "text": [
      "253541917\n"
     ]
    }
   ],
   "source": [
    "total=0\n",
    "for idx,row in part2_df.iterrows():\n",
    "    total+=(1000-idx)*int(row.bids)\n",
    "print(total)"
   ]
  }
 ],
 "metadata": {
  "kernelspec": {
   "display_name": ".venv",
   "language": "python",
   "name": "python3"
  },
  "language_info": {
   "codemirror_mode": {
    "name": "ipython",
    "version": 3
   },
   "file_extension": ".py",
   "mimetype": "text/x-python",
   "name": "python",
   "nbconvert_exporter": "python",
   "pygments_lexer": "ipython3",
   "version": "3.12.0"
  }
 },
 "nbformat": 4,
 "nbformat_minor": 2
}
