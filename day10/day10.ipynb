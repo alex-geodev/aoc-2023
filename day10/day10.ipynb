{
 "cells": [
  {
   "cell_type": "code",
   "execution_count": 1,
   "metadata": {},
   "outputs": [],
   "source": [
    "data_unformed = list(open('data.txt').read().split('\\n'))"
   ]
  },
  {
   "cell_type": "code",
   "execution_count": 2,
   "metadata": {},
   "outputs": [],
   "source": [
    "import numpy as np"
   ]
  },
  {
   "cell_type": "code",
   "execution_count": 3,
   "metadata": {},
   "outputs": [],
   "source": [
    "#find locations of s\n",
    "start_point = [(i,data_unformed[i].index('S')) for i in range(len(data_unformed))\n",
    "      if data_unformed[i].find('S')>0][0]\n",
    "\n",
    "path_grid = data_unformed.copy()"
   ]
  },
  {
   "cell_type": "code",
   "execution_count": 4,
   "metadata": {},
   "outputs": [
    {
     "data": {
      "text/plain": [
       "(41, 91)"
      ]
     },
     "execution_count": 4,
     "metadata": {},
     "output_type": "execute_result"
    }
   ],
   "source": [
    "start_point"
   ]
  },
  {
   "cell_type": "code",
   "execution_count": 5,
   "metadata": {},
   "outputs": [],
   "source": [
    "def is_path_element(point, direction):\n",
    "    \n",
    "    match direction:\n",
    "        case 'N':\n",
    "            if path_grid[point[0]][point[1]] in ['|','F','7']:\n",
    "                return True\n",
    "        case 'S':\n",
    "            if path_grid[point[0]][point[1]] in ['|','J','L']:\n",
    "                return True\n",
    "        case 'E':\n",
    "            if path_grid[point[0]][point[1]] in ['-','J','7']:\n",
    "                return True\n",
    "        case 'W':\n",
    "            if path_grid[point[0]][point[1]] in ['-','L','F']:\n",
    "                return True  \n",
    "        \n",
    "    return False         \n",
    "    "
   ]
  },
  {
   "cell_type": "code",
   "execution_count": 6,
   "metadata": {},
   "outputs": [],
   "source": [
    "#search u,d,l,r and replace letters with numbers\n",
    "def move(point,direction):\n",
    "    match direction:\n",
    "        case 'N':\n",
    "            new_point = (point[0]-1,point[1])\n",
    "        case 'S':\n",
    "            new_point = (point[0]+1,point[1])\n",
    "        case 'E':\n",
    "            new_point = (point[0],point[1]+1)\n",
    "        case 'W':\n",
    "            new_point = (point[0],point[1]-1)\n",
    "    return new_point"
   ]
  },
  {
   "cell_type": "code",
   "execution_count": 38,
   "metadata": {},
   "outputs": [],
   "source": [
    "path_array = np.zeros((len(path_grid),len(path_grid[0])))"
   ]
  },
  {
   "cell_type": "code",
   "execution_count": 39,
   "metadata": {},
   "outputs": [],
   "source": [
    "path_array[start_point] = 1"
   ]
  },
  {
   "cell_type": "code",
   "execution_count": 17,
   "metadata": {},
   "outputs": [
    {
     "data": {
      "text/plain": [
       "1.0"
      ]
     },
     "execution_count": 17,
     "metadata": {},
     "output_type": "execute_result"
    }
   ],
   "source": [
    "path_array[start_point]"
   ]
  },
  {
   "cell_type": "code",
   "execution_count": 43,
   "metadata": {},
   "outputs": [
    {
     "data": {
      "text/plain": [
       "(array([33, 33, 34, 34, 35, 35, 36, 36, 37, 37, 38, 38, 39, 39, 39, 39, 40,\n",
       "        40, 40, 41], dtype=int64),\n",
       " array([88, 89, 88, 89, 88, 89, 88, 89, 88, 89, 88, 89, 88, 89, 90, 91, 89,\n",
       "        90, 91, 91], dtype=int64))"
      ]
     },
     "execution_count": 43,
     "metadata": {},
     "output_type": "execute_result"
    }
   ],
   "source": [
    "path_array.nonzero()"
   ]
  },
  {
   "cell_type": "code",
   "execution_count": 51,
   "metadata": {},
   "outputs": [
    {
     "name": "stdout",
     "output_type": "stream",
     "text": [
      "| going N from (41, 91) to (40, 91), \n",
      "7 going N from (40, 91) to (39, 91), \n",
      "F going W from (39, 91) to (39, 90), \n",
      "J going S from (39, 90) to (40, 90), \n",
      "L going W from (40, 90) to (40, 89), \n",
      "7 going N from (40, 89) to (39, 89), \n",
      "L going W from (39, 89) to (39, 88), \n",
      "F going N from (39, 88) to (38, 88), \n",
      "J going E from (38, 88) to (38, 89), \n",
      "7 going N from (38, 89) to (37, 89), \n",
      "L going W from (37, 89) to (37, 88), \n",
      "F going N from (37, 88) to (36, 88), \n",
      "J going E from (36, 88) to (36, 89), \n",
      "7 going N from (36, 89) to (35, 89), \n",
      "L going W from (35, 89) to (35, 88), \n",
      "| going N from (35, 88) to (34, 88), \n",
      "F going N from (34, 88) to (33, 88), \n",
      "- going E from (33, 88) to (33, 89), \n",
      "L going S from (33, 89) to (34, 89), \n"
     ]
    },
    {
     "ename": "KeyboardInterrupt",
     "evalue": "",
     "output_type": "error",
     "traceback": [
      "\u001b[1;31m---------------------------------------------------------------------------\u001b[0m",
      "\u001b[1;31mKeyboardInterrupt\u001b[0m                         Traceback (most recent call last)",
      "Cell \u001b[1;32mIn[51], line 7\u001b[0m\n\u001b[0;32m      5\u001b[0m \u001b[38;5;28;01mif\u001b[39;00m direction \u001b[38;5;241m!=\u001b[39m rev_direction:\n\u001b[0;32m      6\u001b[0m     new_pt \u001b[38;5;241m=\u001b[39m move(old_point,direction)\n\u001b[1;32m----> 7\u001b[0m     \u001b[38;5;28;01mif\u001b[39;00m is_path_element(new_pt,direction):\n\u001b[0;32m      8\u001b[0m         \u001b[38;5;28mprint\u001b[39m(\u001b[38;5;124mf\u001b[39m\u001b[38;5;124m'\u001b[39m\u001b[38;5;132;01m{\u001b[39;00mpath_grid[new_pt[\u001b[38;5;241m0\u001b[39m]][new_pt[\u001b[38;5;241m1\u001b[39m]]\u001b[38;5;132;01m}\u001b[39;00m\u001b[38;5;124m going \u001b[39m\u001b[38;5;132;01m{\u001b[39;00mdirection\u001b[38;5;132;01m}\u001b[39;00m\u001b[38;5;124m from \u001b[39m\u001b[38;5;132;01m{\u001b[39;00mold_point\u001b[38;5;132;01m}\u001b[39;00m\u001b[38;5;124m to \u001b[39m\u001b[38;5;132;01m{\u001b[39;00mnew_pt\u001b[38;5;132;01m}\u001b[39;00m\u001b[38;5;124m, \u001b[39m\u001b[38;5;124m'\u001b[39m)\n\u001b[0;32m      9\u001b[0m         path_array[new_pt] \u001b[38;5;241m+\u001b[39m\u001b[38;5;241m=\u001b[39m \u001b[38;5;241m1\u001b[39m\n",
      "\u001b[1;31mKeyboardInterrupt\u001b[0m: "
     ]
    }
   ],
   "source": [
    "rev_direction = False\n",
    "old_point = start_point\n",
    "while path_array[start_point]<=2:\n",
    "    for direction in ['N','S','E','W']:\n",
    "        if direction != rev_direction:\n",
    "            new_pt = move(old_point,direction)\n",
    "            if is_path_element(new_pt,direction):\n",
    "                print(f'{path_grid[new_pt[0]][new_pt[1]]} going {direction} from {old_point} to {new_pt}, ')\n",
    "                path_array[new_pt] += 1\n",
    "                old_point=new_pt\n",
    "\n",
    "                match direction:\n",
    "                    case 'N':\n",
    "                        rev_direction = 'S'\n",
    "                    case 'S':\n",
    "                        rev_direction = 'N'\n",
    "                    case 'E':\n",
    "                        rev_direction = 'W'\n",
    "                    case 'W':\n",
    "                        rev_direction = 'E'                                                                       \n",
    "                break\n",
    "        "
   ]
  },
  {
   "cell_type": "code",
   "execution_count": 48,
   "metadata": {},
   "outputs": [
    {
     "data": {
      "text/plain": [
       "['||L--LL-FFF-7JF7.L7L-J|L------7FJ|FJL7F-JFJFJ.|L7|L7|L7||F7|FJ||||F7F7||FJ|F77L7|L-7FJL7F-JL7|F7||F7|||L-JL---7L--JF7LJLJL7F7F-JF7-F7J|J.|J7',\n",
       " 'L77L7|J7F7L7|F||F7L--7|F------JL-JL7.||F7L7|F7|FJ|FJL7|||||||-|||||||||||FJ||F7||F7||F7||LF7||||||||||L7F-----JF7F7|L7F7F7|||L7|||7.|F.|.|||']"
      ]
     },
     "execution_count": 48,
     "metadata": {},
     "output_type": "execute_result"
    }
   ],
   "source": [
    "path_grid[33:35]"
   ]
  }
 ],
 "metadata": {
  "kernelspec": {
   "display_name": ".venv",
   "language": "python",
   "name": "python3"
  },
  "language_info": {
   "codemirror_mode": {
    "name": "ipython",
    "version": 3
   },
   "file_extension": ".py",
   "mimetype": "text/x-python",
   "name": "python",
   "nbconvert_exporter": "python",
   "pygments_lexer": "ipython3",
   "version": "3.12.0"
  }
 },
 "nbformat": 4,
 "nbformat_minor": 2
}
