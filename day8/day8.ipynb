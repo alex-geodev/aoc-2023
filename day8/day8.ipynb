{
 "cells": [
  {
   "cell_type": "code",
   "execution_count": null,
   "metadata": {},
   "outputs": [],
   "source": []
  },
  {
   "cell_type": "code",
   "execution_count": 1,
   "metadata": {},
   "outputs": [],
   "source": [
    "data_unformed = list(open('data.txt').read().split('\\n'))"
   ]
  },
  {
   "cell_type": "code",
   "execution_count": 10,
   "metadata": {},
   "outputs": [],
   "source": [
    "instructions, nodes = data_unformed[0], data_unformed[2:]"
   ]
  },
  {
   "cell_type": "code",
   "execution_count": 90,
   "metadata": {},
   "outputs": [],
   "source": [
    "node_list= [(node.split(' = ')[0], node.split('(')[1][0:3], node.split(', ')[1][0:3]) for node in nodes]\n",
    "all_nodes = node_list"
   ]
  },
  {
   "cell_type": "code",
   "execution_count": 97,
   "metadata": {},
   "outputs": [],
   "source": [
    "def find_node(node_name, nodes):\n",
    "    print(node_name)\n",
    "    return [node for node in nodes if node_name == node[0]][0]\n",
    "\n",
    "def get_next_node(node_name, instruction_num):\n",
    "    node = find_node(node_name=node_name, nodes=node_list)\n",
    "    next_node = node[1] if instructions[instruction_num] == 'L' else node[2]\n",
    "    return next_node\n",
    "\n"
   ]
  },
  {
   "cell_type": "code",
   "execution_count": 46,
   "metadata": {},
   "outputs": [
    {
     "name": "stdout",
     "output_type": "stream",
     "text": [
      "20777\n"
     ]
    }
   ],
   "source": [
    "instruction_num = 0\n",
    "cnt=0\n",
    "while True:\n",
    "    if instruction_num == 0:\n",
    "        next_node = get_next_node('AAA',instruction_num)\n",
    "    elif instruction_num==len(instructions):\n",
    "        instruction_num=0\n",
    "        next_node = get_next_node(next_node,instruction_num)\n",
    "    else:\n",
    "        next_node = get_next_node(next_node,instruction_num)\n",
    "    instruction_num+=1\n",
    "    cnt+=1\n",
    "    if next_node == 'ZZZ':\n",
    "        break\n",
    "print(cnt)"
   ]
  },
  {
   "cell_type": "markdown",
   "metadata": {},
   "source": [
    "PArt 2"
   ]
  },
  {
   "cell_type": "code",
   "execution_count": 110,
   "metadata": {},
   "outputs": [],
   "source": [
    "nodes_end_a = [node[0] for node in node_list if node[0][-1]=='A']"
   ]
  },
  {
   "cell_type": "code",
   "execution_count": 111,
   "metadata": {},
   "outputs": [
    {
     "data": {
      "text/plain": [
       "['JQA', 'NHA', 'AAA', 'FSA', 'LLA', 'MNA']"
      ]
     },
     "execution_count": 111,
     "metadata": {},
     "output_type": "execute_result"
    }
   ],
   "source": [
    "nodes_end_a"
   ]
  },
  {
   "cell_type": "code",
   "execution_count": 117,
   "metadata": {},
   "outputs": [],
   "source": [
    "all_cnts = []\n",
    "for node in nodes_end_a:\n",
    "    instruction_num = 0\n",
    "    cnt=0\n",
    "    while True:\n",
    "        if instruction_num == 0:\n",
    "            next_node = get_next_node(node,instruction_num)\n",
    "        elif instruction_num==len(instructions):\n",
    "            instruction_num=0\n",
    "            next_node = get_next_node(next_node,instruction_num)\n",
    "        else:\n",
    "            next_node = get_next_node(next_node,instruction_num)\n",
    "        instruction_num+=1\n",
    "        cnt+=1\n",
    "        if next_node[-1] == 'Z':\n",
    "            break\n",
    "    all_cnts.append(cnt)"
   ]
  },
  {
   "cell_type": "code",
   "execution_count": 134,
   "metadata": {},
   "outputs": [
    {
     "data": {
      "text/plain": [
       "[13939, 11309, 20777, 15517, 17621, 18673]"
      ]
     },
     "execution_count": 134,
     "metadata": {},
     "output_type": "execute_result"
    }
   ],
   "source": [
    "all_cnts"
   ]
  },
  {
   "cell_type": "code",
   "execution_count": 150,
   "metadata": {},
   "outputs": [
    {
     "name": "stdout",
     "output_type": "stream",
     "text": [
      "13289612809129\n"
     ]
    }
   ],
   "source": [
    "from math import gcd\n",
    "a = all_cnts   #will work for an int array of any length\n",
    "lcm = 1\n",
    "for i in a:\n",
    "    lcm = lcm*i//gcd(lcm, i)\n",
    "print(lcm)"
   ]
  },
  {
   "cell_type": "code",
   "execution_count": 148,
   "metadata": {},
   "outputs": [
    {
     "data": {
      "text/plain": [
       "1995394.3164556962"
      ]
     },
     "execution_count": 148,
     "metadata": {},
     "output_type": "execute_result"
    }
   ],
   "source": [
    "157636151"
   ]
  },
  {
   "cell_type": "code",
   "execution_count": 120,
   "metadata": {},
   "outputs": [],
   "source": [
    "from math import gcd"
   ]
  },
  {
   "cell_type": "code",
   "execution_count": 136,
   "metadata": {},
   "outputs": [
    {
     "data": {
      "text/plain": [
       "263"
      ]
     },
     "execution_count": 136,
     "metadata": {},
     "output_type": "execute_result"
    }
   ],
   "source": [
    "gcd(all_cnts[3],all_cnts[4])"
   ]
  },
  {
   "cell_type": "code",
   "execution_count": 144,
   "metadata": {},
   "outputs": [
    {
     "data": {
      "text/plain": [
       "[53.0, 43.0, 79.0, 59.0, 67.0, 71.0]"
      ]
     },
     "execution_count": 144,
     "metadata": {},
     "output_type": "execute_result"
    }
   ],
   "source": [
    "[cnt /263 for cnt in all_cnts]"
   ]
  },
  {
   "cell_type": "code",
   "execution_count": 101,
   "metadata": {},
   "outputs": [],
   "source": [
    "def find_node(node_name, nodes):\n",
    "    return [node for node in nodes if node_name == node[0]][0]\n",
    "\n",
    "def get_next_node_list(node_list, instruction_num):\n",
    "    next_node_list = [] \n",
    "    for node_name in node_list:\n",
    "        next_node = get_next_node(node_name,instruction_num)\n",
    "        next_node_list.append(next_node)\n",
    "    return next_node_list"
   ]
  },
  {
   "cell_type": "code",
   "execution_count": 112,
   "metadata": {},
   "outputs": [
    {
     "ename": "KeyboardInterrupt",
     "evalue": "",
     "output_type": "error",
     "traceback": [
      "\u001b[1;31m---------------------------------------------------------------------------\u001b[0m",
      "\u001b[1;31mKeyboardInterrupt\u001b[0m                         Traceback (most recent call last)",
      "Cell \u001b[1;32mIn[112], line 11\u001b[0m\n\u001b[0;32m      9\u001b[0m     next_node_list \u001b[38;5;241m=\u001b[39m get_next_node_list(next_node_list,instruction_num)\n\u001b[0;32m     10\u001b[0m \u001b[38;5;28;01melse\u001b[39;00m:\n\u001b[1;32m---> 11\u001b[0m     next_node_list \u001b[38;5;241m=\u001b[39m \u001b[43mget_next_node_list\u001b[49m\u001b[43m(\u001b[49m\u001b[43mnext_node_list\u001b[49m\u001b[43m,\u001b[49m\u001b[43minstruction_num\u001b[49m\u001b[43m)\u001b[49m\n\u001b[0;32m     12\u001b[0m instruction_num\u001b[38;5;241m+\u001b[39m\u001b[38;5;241m=\u001b[39m\u001b[38;5;241m1\u001b[39m\n\u001b[0;32m     13\u001b[0m cnt\u001b[38;5;241m+\u001b[39m\u001b[38;5;241m=\u001b[39m\u001b[38;5;241m1\u001b[39m\n",
      "Cell \u001b[1;32mIn[101], line 7\u001b[0m, in \u001b[0;36mget_next_node_list\u001b[1;34m(node_list, instruction_num)\u001b[0m\n\u001b[0;32m      5\u001b[0m next_node_list \u001b[38;5;241m=\u001b[39m [] \n\u001b[0;32m      6\u001b[0m \u001b[38;5;28;01mfor\u001b[39;00m node_name \u001b[38;5;129;01min\u001b[39;00m node_list:\n\u001b[1;32m----> 7\u001b[0m     next_node \u001b[38;5;241m=\u001b[39m \u001b[43mget_next_node\u001b[49m\u001b[43m(\u001b[49m\u001b[43mnode_name\u001b[49m\u001b[43m,\u001b[49m\u001b[43minstruction_num\u001b[49m\u001b[43m)\u001b[49m\n\u001b[0;32m      8\u001b[0m     next_node_list\u001b[38;5;241m.\u001b[39mappend(next_node)\n\u001b[0;32m      9\u001b[0m \u001b[38;5;28;01mreturn\u001b[39;00m next_node_list\n",
      "Cell \u001b[1;32mIn[97], line 6\u001b[0m, in \u001b[0;36mget_next_node\u001b[1;34m(node_name, instruction_num)\u001b[0m\n\u001b[0;32m      5\u001b[0m \u001b[38;5;28;01mdef\u001b[39;00m \u001b[38;5;21mget_next_node\u001b[39m(node_name, instruction_num):\n\u001b[1;32m----> 6\u001b[0m     node \u001b[38;5;241m=\u001b[39m \u001b[43mfind_node\u001b[49m\u001b[43m(\u001b[49m\u001b[43mnode_name\u001b[49m\u001b[38;5;241;43m=\u001b[39;49m\u001b[43mnode_name\u001b[49m\u001b[43m,\u001b[49m\u001b[43m \u001b[49m\u001b[43mnodes\u001b[49m\u001b[38;5;241;43m=\u001b[39;49m\u001b[43mnode_list\u001b[49m\u001b[43m)\u001b[49m\n\u001b[0;32m      7\u001b[0m     next_node \u001b[38;5;241m=\u001b[39m node[\u001b[38;5;241m1\u001b[39m] \u001b[38;5;28;01mif\u001b[39;00m instructions[instruction_num] \u001b[38;5;241m==\u001b[39m \u001b[38;5;124m'\u001b[39m\u001b[38;5;124mL\u001b[39m\u001b[38;5;124m'\u001b[39m \u001b[38;5;28;01melse\u001b[39;00m node[\u001b[38;5;241m2\u001b[39m]\n\u001b[0;32m      8\u001b[0m     \u001b[38;5;28;01mreturn\u001b[39;00m next_node\n",
      "Cell \u001b[1;32mIn[101], line 2\u001b[0m, in \u001b[0;36mfind_node\u001b[1;34m(node_name, nodes)\u001b[0m\n\u001b[0;32m      1\u001b[0m \u001b[38;5;28;01mdef\u001b[39;00m \u001b[38;5;21mfind_node\u001b[39m(node_name, nodes):\n\u001b[1;32m----> 2\u001b[0m     \u001b[38;5;28;01mreturn\u001b[39;00m [node \u001b[38;5;28;01mfor\u001b[39;00m node \u001b[38;5;129;01min\u001b[39;00m nodes \u001b[38;5;28;01mif\u001b[39;00m node_name \u001b[38;5;241m==\u001b[39m node[\u001b[38;5;241m0\u001b[39m]][\u001b[38;5;241m0\u001b[39m]\n",
      "\u001b[1;31mKeyboardInterrupt\u001b[0m: "
     ]
    }
   ],
   "source": [
    "instruction_num = 0\n",
    "cnt=0\n",
    "next_node_list =[]\n",
    "while True:   \n",
    "    if instruction_num == 0:\n",
    "        next_node_list = get_next_node_list(nodes_end_a,instruction_num)\n",
    "    elif instruction_num==len(instructions):\n",
    "        instruction_num=0\n",
    "        next_node_list = get_next_node_list(next_node_list,instruction_num)\n",
    "    else:\n",
    "        next_node_list = get_next_node_list(next_node_list,instruction_num)\n",
    "    instruction_num+=1\n",
    "    cnt+=1\n",
    "    #check nodes to see if they all end in z\n",
    "    nodes_end_z = [node for node in next_node_list if node[-1]=='Z']\n",
    "\n",
    "    if len(nodes_end_z) == len(nodes_end_a):\n",
    "        break\n",
    "print(cnt)"
   ]
  },
  {
   "cell_type": "code",
   "execution_count": null,
   "metadata": {},
   "outputs": [],
   "source": [
    "no"
   ]
  }
 ],
 "metadata": {
  "kernelspec": {
   "display_name": ".venv",
   "language": "python",
   "name": "python3"
  },
  "language_info": {
   "codemirror_mode": {
    "name": "ipython",
    "version": 3
   },
   "file_extension": ".py",
   "mimetype": "text/x-python",
   "name": "python",
   "nbconvert_exporter": "python",
   "pygments_lexer": "ipython3",
   "version": "3.12.0"
  }
 },
 "nbformat": 4,
 "nbformat_minor": 2
}
