{
 "cells": [
  {
   "cell_type": "code",
   "execution_count": 41,
   "metadata": {},
   "outputs": [],
   "source": [
    "data_unformed = list(open('data.txt').read().split('\\n'))"
   ]
  },
  {
   "cell_type": "code",
   "execution_count": 5,
   "metadata": {},
   "outputs": [],
   "source": [
    "import pandas as pd"
   ]
  },
  {
   "cell_type": "code",
   "execution_count": 38,
   "metadata": {},
   "outputs": [],
   "source": [
    "test = list(open('test_data.txt').read().split('\\n'))"
   ]
  },
  {
   "cell_type": "code",
   "execution_count": 78,
   "metadata": {},
   "outputs": [],
   "source": [
    "def get_sequence(new_list):\n",
    "    total = 0\n",
    "    for x in range(len(new_list)-1,-1,-1):\n",
    "        total+=new_list[x].tail(1).values[0].astype(int)\n",
    "    return total"
   ]
  },
  {
   "cell_type": "code",
   "execution_count": 80,
   "metadata": {},
   "outputs": [
    {
     "name": "stdout",
     "output_type": "stream",
     "text": [
      "1861775834\n"
     ]
    }
   ],
   "source": [
    "total = 0\n",
    "for item in data_unformed:\n",
    "    hist_ser = pd.Series([int(x) for x in item.split()])\n",
    "    oasis_ser = hist_ser.copy()\n",
    "    new_list = [oasis_ser]\n",
    "    for i in range(len(hist_ser)):\n",
    "        oasis_ser = oasis_ser.diff()\n",
    "        if oasis_ser.sum() == 0:\n",
    "            total+=get_sequence(new_list)\n",
    "            break\n",
    "        else:\n",
    "            new_list.append(oasis_ser)\n",
    "    #print(new_list)\n",
    "print(total)"
   ]
  },
  {
   "cell_type": "code",
   "execution_count": 71,
   "metadata": {},
   "outputs": [
    {
     "name": "stdout",
     "output_type": "stream",
     "text": [
      "1861775706 1082\n"
     ]
    }
   ],
   "source": [
    "history=open('data.txt').readlines()\n",
    "\n",
    "from math import comb\n",
    "def Lagrange1(nums):\n",
    "    n=len(nums)\n",
    "    res=0\n",
    "    for i,x in enumerate(nums):\n",
    "        res+=x*comb(n,i)*(-1)**(n-1-i)\n",
    "    return res\n",
    "\n",
    "def Lagrange2(nums):\n",
    "    n=len(nums)\n",
    "    res=0\n",
    "    for i,x in enumerate(nums):\n",
    "        res+=x*comb(n,i+1)*(-1)**(i)\n",
    "    return res\n",
    "\n",
    "res1,res2=0,0\n",
    "for line in history:\n",
    "    nums=list(map(int,line.strip().split()))\n",
    "    res1+=Lagrange1(nums)\n",
    "    res2+=Lagrange2(nums)\n",
    "print(res1,res2,sep=' ')"
   ]
  }
 ],
 "metadata": {
  "kernelspec": {
   "display_name": ".venv",
   "language": "python",
   "name": "python3"
  },
  "language_info": {
   "codemirror_mode": {
    "name": "ipython",
    "version": 3
   },
   "file_extension": ".py",
   "mimetype": "text/x-python",
   "name": "python",
   "nbconvert_exporter": "python",
   "pygments_lexer": "ipython3",
   "version": "3.12.0"
  }
 },
 "nbformat": 4,
 "nbformat_minor": 2
}
